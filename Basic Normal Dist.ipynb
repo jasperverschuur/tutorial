{
 "cells": [
  {
   "cell_type": "markdown",
   "metadata": {},
   "source": [
    "# This is just a Test\n",
    "\n",
    "Plotting the normal below."
   ]
  },
  {
   "cell_type": "code",
   "execution_count": 3,
   "metadata": {},
   "outputs": [],
   "source": [
    "import pandas as pd\n",
    "import numpy as np\n",
    "n = 100\n",
    "df = pd.DataFrame()\n",
    "np.random.seed(1)\n",
    "df['x1'] = np.random.randn(n)\n"
   ]
  },
  {
   "cell_type": "code",
   "execution_count": 5,
   "metadata": {},
   "outputs": [
    {
     "name": "stdout",
     "output_type": "stream",
     "text": [
      "          x1\n",
      "0   1.624345\n",
      "1  -0.611756\n",
      "2  -0.528172\n",
      "3  -1.072969\n",
      "4   0.865408\n",
      "5  -2.301539\n",
      "6   1.744812\n",
      "7  -0.761207\n",
      "8   0.319039\n",
      "9  -0.249370\n",
      "10  1.462108\n",
      "11 -2.060141\n",
      "12 -0.322417\n",
      "13 -0.384054\n",
      "14  1.133769\n",
      "15 -1.099891\n",
      "16 -0.172428\n",
      "17 -0.877858\n",
      "18  0.042214\n",
      "19  0.582815\n",
      "20 -1.100619\n",
      "21  1.144724\n",
      "22  0.901591\n",
      "23  0.502494\n",
      "24  0.900856\n",
      "25 -0.683728\n",
      "26 -0.122890\n",
      "27 -0.935769\n",
      "28 -0.267888\n",
      "29  0.530355\n",
      "..       ...\n",
      "70 -1.444114\n",
      "71 -0.504466\n",
      "72  0.160037\n",
      "73  0.876169\n",
      "74  0.315635\n",
      "75 -2.022201\n",
      "76 -0.306204\n",
      "77  0.827975\n",
      "78  0.230095\n",
      "79  0.762011\n",
      "80 -0.222328\n",
      "81 -0.200758\n",
      "82  0.186561\n",
      "83  0.410052\n",
      "84  0.198300\n",
      "85  0.119009\n",
      "86 -0.670662\n",
      "87  0.377564\n",
      "88  0.121821\n",
      "89  1.129484\n",
      "90  1.198918\n",
      "91  0.185156\n",
      "92 -0.375285\n",
      "93 -0.638730\n",
      "94  0.423494\n",
      "95  0.077340\n",
      "96 -0.343854\n",
      "97  0.043597\n",
      "98 -0.620001\n",
      "99  0.698032\n",
      "\n",
      "[100 rows x 1 columns]\n"
     ]
    }
   ],
   "source": [
    "print(df)"
   ]
  },
  {
   "cell_type": "code",
   "execution_count": null,
   "metadata": {},
   "outputs": [],
   "source": []
  }
 ],
 "metadata": {
  "kernelspec": {
   "display_name": "Python 3",
   "language": "python",
   "name": "python3"
  },
  "language_info": {
   "codemirror_mode": {
    "name": "ipython",
    "version": 3
   },
   "file_extension": ".py",
   "mimetype": "text/x-python",
   "name": "python",
   "nbconvert_exporter": "python",
   "pygments_lexer": "ipython3",
   "version": "3.7.0"
  }
 },
 "nbformat": 4,
 "nbformat_minor": 2
}
